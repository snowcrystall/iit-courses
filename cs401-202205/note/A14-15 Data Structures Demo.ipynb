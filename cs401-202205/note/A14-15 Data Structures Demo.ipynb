{
 "cells": [
  {
   "cell_type": "markdown",
   "metadata": {
    "state": "normal"
   },
   "source": [
    "# A14-15 Data Structures Demo"
   ]
  },
  {
   "cell_type": "markdown",
   "metadata": {
    "state": "normal"
   },
   "source": [
    "## Text analysis and generation"
   ]
  },
  {
   "cell_type": "code",
   "execution_count": null,
   "metadata": {
    "state": "normal"
   },
   "outputs": [],
   "source": [
    "import urllib.request\n",
    "\n",
    "md_url = 'https://www.gutenberg.org/files/2701/2701-0.txt'\n",
    "md_text = urllib.request.urlopen(md_url).read().decode()"
   ]
  },
  {
   "cell_type": "code",
   "execution_count": null,
   "metadata": {
    "state": "normal"
   },
   "outputs": [],
   "source": [
    "idx = md_text.index('Call me Ishmael')"
   ]
  },
  {
   "cell_type": "code",
   "execution_count": null,
   "metadata": {
    "state": "normal"
   },
   "outputs": [],
   "source": [
    "idx"
   ]
  },
  {
   "cell_type": "code",
   "execution_count": null,
   "metadata": {
    "state": "normal"
   },
   "outputs": [],
   "source": [
    "md_text[idx:idx+100]"
   ]
  },
  {
   "cell_type": "code",
   "execution_count": null,
   "metadata": {
    "state": "normal"
   },
   "outputs": [],
   "source": [
    "md_text[idx:idx+100].split()"
   ]
  },
  {
   "cell_type": "code",
   "execution_count": null,
   "metadata": {
    "state": "normal"
   },
   "outputs": [],
   "source": [
    "md_words = md_text.lower().split()"
   ]
  },
  {
   "cell_type": "code",
   "execution_count": null,
   "metadata": {
    "state": "normal"
   },
   "outputs": [],
   "source": [
    "len(md_words)"
   ]
  },
  {
   "cell_type": "code",
   "execution_count": null,
   "metadata": {
    "state": "normal"
   },
   "outputs": [],
   "source": [
    "md_words_uniq = set(md_words)\n",
    "len(md_words_uniq)"
   ]
  },
  {
   "cell_type": "code",
   "execution_count": 49,
   "metadata": {
    "state": "normal"
   },
   "outputs": [],
   "source": [
    "# compute the frequency of each word in the text\n",
    "md_word_counts = {}\n",
    "for w in md_words:\n",
    "    pass"
   ]
  },
  {
   "cell_type": "code",
   "execution_count": null,
   "metadata": {
    "state": "normal"
   },
   "outputs": [],
   "source": [
    "md_word_counts['the']"
   ]
  },
  {
   "cell_type": "code",
   "execution_count": null,
   "metadata": {
    "state": "normal"
   },
   "outputs": [],
   "source": [
    "len(md_word_counts)"
   ]
  },
  {
   "cell_type": "code",
   "execution_count": null,
   "metadata": {
    "state": "normal"
   },
   "outputs": [],
   "source": [
    "list(md_word_counts.items())[:10]"
   ]
  },
  {
   "cell_type": "code",
   "execution_count": null,
   "metadata": {
    "state": "normal"
   },
   "outputs": [],
   "source": [
    "md_word_counts_sorted = sorted(md_word_counts.items())"
   ]
  },
  {
   "cell_type": "code",
   "execution_count": null,
   "metadata": {
    "state": "normal"
   },
   "outputs": [],
   "source": [
    "md_word_counts_sorted[:10]"
   ]
  },
  {
   "cell_type": "code",
   "execution_count": null,
   "metadata": {
    "state": "normal"
   },
   "outputs": [],
   "source": [
    "import urllib.request\n",
    "\n",
    "sw_url = 'https://moss.cs.iit.edu/stopwords.txt'\n",
    "sw_text = urllib.request.urlopen(sw_url).read().decode()\n",
    "stopwords = sw_text.split()"
   ]
  },
  {
   "cell_type": "code",
   "execution_count": null,
   "metadata": {
    "state": "normal"
   },
   "outputs": [],
   "source": [
    "# remove stopwords\n",
    "\n",
    "md_word_counts = []"
   ]
  },
  {
   "cell_type": "code",
   "execution_count": null,
   "metadata": {
    "state": "normal"
   },
   "outputs": [],
   "source": [
    "md_word_counts_sorted = sorted(md_word_counts.items(), key=lambda t: t[1], reverse=True)"
   ]
  },
  {
   "cell_type": "code",
   "execution_count": null,
   "metadata": {
    "state": "normal"
   },
   "outputs": [],
   "source": [
    "md_word_counts_sorted[:10]"
   ]
  },
  {
   "cell_type": "code",
   "execution_count": null,
   "metadata": {
    "state": "normal"
   },
   "outputs": [],
   "source": [
    "%matplotlib inline\n",
    "import matplotlib.pyplot as plt\n",
    "\n",
    "# need lists of the first n words/counts to plot\n",
    "n = 10\n",
    "words  = []\n",
    "counts = []\n",
    "\n",
    "plt.rcParams['figure.figsize'] = [12, 5]\n",
    "plt.bar(range(n), counts)\n",
    "plt.xticks(range(n), words, rotation=60, fontsize=12)\n",
    "plt.show()"
   ]
  },
  {
   "cell_type": "code",
   "execution_count": null,
   "metadata": {
    "state": "normal"
   },
   "outputs": [],
   "source": [
    "# collect all two-word phrases as tuples\n",
    "phrases = []\n",
    "for i in range(len(md_words)-1):\n",
    "    pass"
   ]
  },
  {
   "cell_type": "code",
   "execution_count": null,
   "metadata": {
    "state": "normal"
   },
   "outputs": [],
   "source": [
    "phrases[:10]"
   ]
  },
  {
   "cell_type": "code",
   "execution_count": null,
   "metadata": {
    "state": "normal"
   },
   "outputs": [],
   "source": [
    "# map each word to a list of all the words that\n",
    "# follow it in the text\n",
    "phrase_dict = {}\n",
    "for (w1, w2) in phrases:\n",
    "    pass"
   ]
  },
  {
   "cell_type": "code",
   "execution_count": null,
   "metadata": {
    "state": "normal"
   },
   "outputs": [],
   "source": [
    "phrase_dict['starboard']"
   ]
  },
  {
   "cell_type": "code",
   "execution_count": null,
   "metadata": {
    "state": "normal"
   },
   "outputs": [],
   "source": [
    "# generate a sentence based on two-word phrase statistics\n",
    "# from Moby Dick\n",
    "import random\n",
    "\n",
    "gen_words = ['whale']\n",
    "for _ in range(10):\n",
    "    pass\n",
    "\n",
    "' '.join(gen_words)"
   ]
  },
  {
   "cell_type": "markdown",
   "metadata": {
    "state": "normal"
   },
   "source": [
    "### Solving Sudoku"
   ]
  },
  {
   "cell_type": "code",
   "execution_count": null,
   "metadata": {
    "state": "normal"
   },
   "outputs": [],
   "source": [
    "puzzle = '''..3 .2. 6..\n",
    "            9.. 3.5 ..1\n",
    "            ..1 8.6 4..\n",
    "            \n",
    "            ..8 1.2 9..\n",
    "            7.. ... ..8\n",
    "            ..6 7.8 2..\n",
    "            \n",
    "            ..2 6.9 5..\n",
    "            8.. 2.3 ..9\n",
    "            ..5 .1. 3..\n",
    "            '''"
   ]
  },
  {
   "cell_type": "code",
   "execution_count": null,
   "metadata": {
    "state": "normal"
   },
   "outputs": [],
   "source": [
    "# name all the squares in the game\n",
    "rows = 'ABCDEFGHI'\n",
    "cols = '123456789'\n",
    "squares = ?"
   ]
  },
  {
   "cell_type": "code",
   "execution_count": null,
   "metadata": {
    "state": "normal"
   },
   "outputs": [],
   "source": [
    "def parse_puzzle(puz_str):\n",
    "    puzzle = [c if c in '123456789' else None\n",
    "              for c in puz_str if c not in ' \\n']\n",
    "    return {squares[i]: puzzle[i]\n",
    "            for i in range(0, len(squares))}"
   ]
  },
  {
   "cell_type": "code",
   "execution_count": null,
   "metadata": {
    "state": "normal"
   },
   "outputs": [],
   "source": [
    "parse_puzzle(puzzle)"
   ]
  },
  {
   "cell_type": "code",
   "execution_count": null,
   "metadata": {
    "state": "normal"
   },
   "outputs": [],
   "source": [
    "# what squares fall in the same columns? (list of lists)\n",
    "vert_units = []"
   ]
  },
  {
   "cell_type": "code",
   "execution_count": null,
   "metadata": {
    "state": "normal"
   },
   "outputs": [],
   "source": [
    "# what squares fall in the same rows? (list of lists)\n",
    "horiz_units = []"
   ]
  },
  {
   "cell_type": "code",
   "execution_count": null,
   "metadata": {
    "state": "normal"
   },
   "outputs": [],
   "source": [
    "# what squares fall in the same \"boxes\"? (list of lists)\n",
    "box_units = []"
   ]
  },
  {
   "cell_type": "code",
   "execution_count": null,
   "metadata": {
    "state": "normal"
   },
   "outputs": [],
   "source": [
    "all_units = vert_units + horiz_units + box_units"
   ]
  },
  {
   "cell_type": "code",
   "execution_count": null,
   "metadata": {
    "state": "normal"
   },
   "outputs": [],
   "source": [
    "# associate each square with a list of all the units it belongs to\n",
    "\n",
    "units = {}"
   ]
  },
  {
   "cell_type": "code",
   "execution_count": null,
   "metadata": {
    "state": "normal"
   },
   "outputs": [],
   "source": [
    "units['A1']"
   ]
  },
  {
   "cell_type": "code",
   "execution_count": null,
   "metadata": {
    "state": "normal"
   },
   "outputs": [],
   "source": [
    "# associate each square with the set of all its \"peers\" (i.e., all\n",
    "# other squares that fall into one of its units)\n",
    "\n",
    "peers = {}"
   ]
  },
  {
   "cell_type": "code",
   "execution_count": null,
   "metadata": {
    "state": "normal"
   },
   "outputs": [],
   "source": [
    "peers['A1']"
   ]
  },
  {
   "cell_type": "code",
   "execution_count": null,
   "metadata": {
    "state": "normal"
   },
   "outputs": [],
   "source": [
    "# what is a \"catch-all\" solution?\n",
    "sol = {}"
   ]
  },
  {
   "cell_type": "code",
   "execution_count": null,
   "metadata": {
    "state": "normal"
   },
   "outputs": [],
   "source": [
    "sol"
   ]
  },
  {
   "cell_type": "code",
   "execution_count": null,
   "metadata": {
    "state": "normal"
   },
   "outputs": [],
   "source": [
    "def assign(sol, sq, val):\n",
    "    '''If assigning a value to a square, eliminate all other\n",
    "    values from that square in the solution.'''\n",
    "    for other in sol[sq].replace(val, ''):\n",
    "        eliminate(sol, sq, other)\n",
    "\n",
    "def eliminate(sol, sq, val):\n",
    "    '''Eliminate a value from a square. Also check whether\n",
    "    eliminating a value from the given square narrows down \n",
    "    that value to only one affected square; if so, assign \n",
    "    the value to that square.'''\n",
    "    if val not in sol[sq]:\n",
    "        return\n",
    "    sol[sq] = sol[sq].replace(val, '')\n",
    "    if len(sol[sq]) == 1:\n",
    "        last = sol[sq][0]\n",
    "        for p in peers[sq]:\n",
    "            eliminate(sol, p, last)\n",
    "    for u in units[sq]:\n",
    "        candidates = [s for s in u if val in sol[s]]\n",
    "        if len(candidates) == 1:\n",
    "            assign(sol, candidates[0], val)"
   ]
  },
  {
   "cell_type": "code",
   "execution_count": null,
   "metadata": {
    "state": "normal"
   },
   "outputs": [],
   "source": [
    "def solve_puzzle(puzz_str):\n",
    "    puz = parse_puzzle(puzz_str)\n",
    "    sol = {s: '123456789' for s in squares}\n",
    "\n",
    "    for sq, val in puz.items():\n",
    "        if val:\n",
    "            assign(sol, sq, val)\n",
    "    return sol"
   ]
  },
  {
   "cell_type": "code",
   "execution_count": null,
   "metadata": {
    "state": "normal"
   },
   "outputs": [],
   "source": [
    "solve_puzzle(puzzle)"
   ]
  },
  {
   "cell_type": "code",
   "execution_count": null,
   "metadata": {
    "state": "normal"
   },
   "outputs": [],
   "source": [
    "def print_sol(sol):\n",
    "    for r in rows:\n",
    "        for c in cols:\n",
    "            print('{:^6} '.format(sol[r+c]), end='')\n",
    "        print()"
   ]
  },
  {
   "cell_type": "code",
   "execution_count": null,
   "metadata": {
    "state": "normal"
   },
   "outputs": [],
   "source": [
    "print_sol(solve_puzzle(puzzle))"
   ]
  },
  {
   "cell_type": "code",
   "execution_count": null,
   "metadata": {
    "state": "normal"
   },
   "outputs": [],
   "source": [
    "# NYTimes \"Medium\" puzzle\n",
    "print_sol(solve_puzzle('''\n",
    ".51 8.. 3.6\n",
    ".3. ... ...\n",
    "..9 .42 .15\n",
    "\n",
    "..4 .75 ...\n",
    "3.. ... ...\n",
    ".8. 9.. ...\n",
    "\n",
    "... ... 8..\n",
    ".1. ..6 .9.\n",
    "..7 ... ..4\n",
    "'''))"
   ]
  }
 ],
 "metadata": {
  "kernelspec": {
   "display_name": "Python 3",
   "language": "python",
   "name": "python3"
  },
  "language_info": {
   "codemirror_mode": {
    "name": "ipython",
    "version": 3
   },
   "file_extension": ".py",
   "mimetype": "text/x-python",
   "name": "python",
   "nbconvert_exporter": "python",
   "pygments_lexer": "ipython3",
   "version": "3.8.5"
  },
  "mimir": {
   "data": {},
   "last_submission_id": "",
   "project_id": "0e1e23fd-0b36-4c88-8dd1-5862880949da"
  },
  "varInspector": {
   "cols": {
    "lenName": 16,
    "lenType": 16,
    "lenVar": 40
   },
   "kernels_config": {
    "python": {
     "delete_cmd_postfix": "",
     "delete_cmd_prefix": "del ",
     "library": "var_list.py",
     "varRefreshCmd": "print(var_dic_list())"
    },
    "r": {
     "delete_cmd_postfix": ") ",
     "delete_cmd_prefix": "rm(",
     "library": "var_list.r",
     "varRefreshCmd": "cat(var_dic_list()) "
    }
   },
   "types_to_exclude": [
    "module",
    "function",
    "builtin_function_or_method",
    "instance",
    "_Feature"
   ],
   "window_display": false
  }
 },
 "nbformat": 4,
 "nbformat_minor": 2
}
