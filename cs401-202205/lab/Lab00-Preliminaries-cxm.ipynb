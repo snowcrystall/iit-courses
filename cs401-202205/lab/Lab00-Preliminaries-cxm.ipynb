{
 "cells": [
  {
   "cell_type": "markdown",
   "metadata": {
    "state": "normal"
   },
   "source": [
    "# Lab 00: Preliminaries"
   ]
  },
  {
   "cell_type": "markdown",
   "metadata": {
    "state": "normal"
   },
   "source": [
    "Welcome to **CS 401 Advanced Studies I**!\n",
    "\n",
    "You will be using [Project Jupyter](https://jupyter.org) — a platform which provides interactive, in-browser Python development environments known as \"notebooks\" — to work on all self-evaluated lab assignments for this asynchronous class. \n",
    "\n",
    "This first lab is intended to briefly acquaint you with how to submit notebook assignments on Lumina. We will go over the details of how to use Jupyter notebooks for Python development in class."
   ]
  },
  {
   "cell_type": "markdown",
   "metadata": {
    "state": "normal"
   },
   "source": [
    "## Exercise 1\n",
    "\n",
    "Each lab notebook will contain one or more coding exercises followed by tests. Your job is to complete these exercises,download your result as a .ipynb file and submit the file to Lumina. Although your labs will not be graded after submissions, you will need to submit to move on to the next module. If you have any questions that you would like to discuss about each lab, you are encouraged to post your question on Piazza for further discussion. Your classmates and instructor will be more than happy to help.\n",
    "\n",
    "Because we haven't gone over any Python syntax in class yet, we'll keep this exercise really simple. To complete this exercise, change the body of the following function so that it returns a palindrome — a string that reads the same backwards as forwards — of your choice. The palindrome has to be at least 2 letters long!"
   ]
  },
  {
   "cell_type": "code",
   "execution_count": 5,
   "metadata": {
    "deletable": false,
    "id": "my_palindrome",
    "starter_code": "def my_palindrome():\n    return ''",
    "state": "graded"
   },
   "outputs": [],
   "source": [
    "def my_palindrome():\n",
    "    return 'aba'"
   ]
  },
  {
   "cell_type": "markdown",
   "metadata": {
    "state": "normal"
   },
   "source": [
    "After completing the implementation, you can run the following test cell by selecting it and hitting `Shift-Enter` (hold down the `Shift` key and hit `Enter`). If all tests pass, you'll see no output. Otherwise, check out the error shown, fix your implementation, and run the test cell again."
   ]
  },
  {
   "cell_type": "code",
   "execution_count": 6,
   "metadata": {
    "deletable": false,
    "editable": false,
    "id": "test",
    "state": "read_only"
   },
   "outputs": [],
   "source": [
    "pal = my_palindrome()\n",
    "assert isinstance(pal, str), 'Must return a string'\n",
    "assert pal.strip(), 'String should not be empty'\n",
    "assert len(pal) > 1, 'String should be at least 2 letters long'\n",
    "assert pal == pal[::-1], 'String is not a palindrome'"
   ]
  },
  {
   "cell_type": "markdown",
   "metadata": {
    "state": "normal"
   },
   "source": [
    "When done, click the \"File\" button at the top-left of the screen and click \"Download as\" Notebook(.ipynb) file. Upload your .ipynb file to the lab section on Lumina, and you will be able to unlock the next module.\n",
    "\n",
    "That's it! See you back in our video lectures!"
   ]
  }
 ],
 "metadata": {
  "kernelspec": {
   "display_name": "Python 3 (ipykernel)",
   "language": "python",
   "name": "python3"
  },
  "language_info": {
   "codemirror_mode": {
    "name": "ipython",
    "version": 3
   },
   "file_extension": ".py",
   "mimetype": "text/x-python",
   "name": "python",
   "nbconvert_exporter": "python",
   "pygments_lexer": "ipython3",
   "version": "3.8.2"
  },
  "mimir": {
   "data": {},
   "last_submission_id": "effd67fe-aa0d-438a-bd17-cd286bb98fa1",
   "project_id": "50fd808a-d4d8-4a46-9bf3-bed12193f796"
  },
  "varInspector": {
   "cols": {
    "lenName": 16,
    "lenType": 16,
    "lenVar": 40
   },
   "kernels_config": {
    "python": {
     "delete_cmd_postfix": "",
     "delete_cmd_prefix": "del ",
     "library": "var_list.py",
     "varRefreshCmd": "print(var_dic_list())"
    },
    "r": {
     "delete_cmd_postfix": ") ",
     "delete_cmd_prefix": "rm(",
     "library": "var_list.r",
     "varRefreshCmd": "cat(var_dic_list()) "
    }
   },
   "types_to_exclude": [
    "module",
    "function",
    "builtin_function_or_method",
    "instance",
    "_Feature"
   ],
   "window_display": false
  }
 },
 "nbformat": 4,
 "nbformat_minor": 2
}
